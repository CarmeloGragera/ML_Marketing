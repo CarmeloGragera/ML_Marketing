{
 "cells": [
  {
   "cell_type": "code",
   "execution_count": 236,
   "metadata": {},
   "outputs": [],
   "source": [
    "import pandas as pd\n",
    "import numpy as np\n",
    "import os\n",
    "import seaborn as sns\n",
    "import matplotlib.pyplot as plt"
   ]
  },
  {
   "cell_type": "code",
   "execution_count": 237,
   "metadata": {},
   "outputs": [],
   "source": [
    "os.chdir(\"C:/Users/Señor Topo/Desktop/bootcamp_ds/Proyecto final/ML_Marketing_grupo_3/data\")"
   ]
  },
  {
   "cell_type": "code",
   "execution_count": 238,
   "metadata": {},
   "outputs": [
    {
     "data": {
      "text/html": [
       "<div>\n",
       "<style scoped>\n",
       "    .dataframe tbody tr th:only-of-type {\n",
       "        vertical-align: middle;\n",
       "    }\n",
       "\n",
       "    .dataframe tbody tr th {\n",
       "        vertical-align: top;\n",
       "    }\n",
       "\n",
       "    .dataframe thead th {\n",
       "        text-align: right;\n",
       "    }\n",
       "</style>\n",
       "<table border=\"1\" class=\"dataframe\">\n",
       "  <thead>\n",
       "    <tr style=\"text-align: right;\">\n",
       "      <th></th>\n",
       "      <th>Date</th>\n",
       "      <th>Users</th>\n",
       "      <th>year</th>\n",
       "      <th>month</th>\n",
       "      <th>day</th>\n",
       "      <th>day of week</th>\n",
       "      <th>weekend</th>\n",
       "      <th>season</th>\n",
       "      <th>festivo</th>\n",
       "    </tr>\n",
       "  </thead>\n",
       "  <tbody>\n",
       "    <tr>\n",
       "      <th>0</th>\n",
       "      <td>2020-01-01</td>\n",
       "      <td>13</td>\n",
       "      <td>2020</td>\n",
       "      <td>1</td>\n",
       "      <td>1</td>\n",
       "      <td>2</td>\n",
       "      <td>0</td>\n",
       "      <td>winter</td>\n",
       "      <td>1</td>\n",
       "    </tr>\n",
       "    <tr>\n",
       "      <th>1</th>\n",
       "      <td>2020-01-02</td>\n",
       "      <td>17</td>\n",
       "      <td>2020</td>\n",
       "      <td>1</td>\n",
       "      <td>2</td>\n",
       "      <td>3</td>\n",
       "      <td>0</td>\n",
       "      <td>winter</td>\n",
       "      <td>0</td>\n",
       "    </tr>\n",
       "    <tr>\n",
       "      <th>2</th>\n",
       "      <td>2020-01-03</td>\n",
       "      <td>13</td>\n",
       "      <td>2020</td>\n",
       "      <td>1</td>\n",
       "      <td>3</td>\n",
       "      <td>4</td>\n",
       "      <td>0</td>\n",
       "      <td>winter</td>\n",
       "      <td>0</td>\n",
       "    </tr>\n",
       "    <tr>\n",
       "      <th>3</th>\n",
       "      <td>2020-01-04</td>\n",
       "      <td>4</td>\n",
       "      <td>2020</td>\n",
       "      <td>1</td>\n",
       "      <td>4</td>\n",
       "      <td>5</td>\n",
       "      <td>1</td>\n",
       "      <td>winter</td>\n",
       "      <td>0</td>\n",
       "    </tr>\n",
       "    <tr>\n",
       "      <th>4</th>\n",
       "      <td>2020-01-05</td>\n",
       "      <td>10</td>\n",
       "      <td>2020</td>\n",
       "      <td>1</td>\n",
       "      <td>5</td>\n",
       "      <td>6</td>\n",
       "      <td>1</td>\n",
       "      <td>winter</td>\n",
       "      <td>0</td>\n",
       "    </tr>\n",
       "    <tr>\n",
       "      <th>...</th>\n",
       "      <td>...</td>\n",
       "      <td>...</td>\n",
       "      <td>...</td>\n",
       "      <td>...</td>\n",
       "      <td>...</td>\n",
       "      <td>...</td>\n",
       "      <td>...</td>\n",
       "      <td>...</td>\n",
       "      <td>...</td>\n",
       "    </tr>\n",
       "    <tr>\n",
       "      <th>846</th>\n",
       "      <td>2022-04-26</td>\n",
       "      <td>63</td>\n",
       "      <td>2022</td>\n",
       "      <td>4</td>\n",
       "      <td>26</td>\n",
       "      <td>1</td>\n",
       "      <td>0</td>\n",
       "      <td>spring</td>\n",
       "      <td>0</td>\n",
       "    </tr>\n",
       "    <tr>\n",
       "      <th>847</th>\n",
       "      <td>2022-04-27</td>\n",
       "      <td>64</td>\n",
       "      <td>2022</td>\n",
       "      <td>4</td>\n",
       "      <td>27</td>\n",
       "      <td>2</td>\n",
       "      <td>0</td>\n",
       "      <td>spring</td>\n",
       "      <td>0</td>\n",
       "    </tr>\n",
       "    <tr>\n",
       "      <th>848</th>\n",
       "      <td>2022-04-28</td>\n",
       "      <td>46</td>\n",
       "      <td>2022</td>\n",
       "      <td>4</td>\n",
       "      <td>28</td>\n",
       "      <td>3</td>\n",
       "      <td>0</td>\n",
       "      <td>spring</td>\n",
       "      <td>0</td>\n",
       "    </tr>\n",
       "    <tr>\n",
       "      <th>849</th>\n",
       "      <td>2022-04-29</td>\n",
       "      <td>29</td>\n",
       "      <td>2022</td>\n",
       "      <td>4</td>\n",
       "      <td>29</td>\n",
       "      <td>4</td>\n",
       "      <td>0</td>\n",
       "      <td>spring</td>\n",
       "      <td>0</td>\n",
       "    </tr>\n",
       "    <tr>\n",
       "      <th>850</th>\n",
       "      <td>2022-04-30</td>\n",
       "      <td>21</td>\n",
       "      <td>2022</td>\n",
       "      <td>4</td>\n",
       "      <td>30</td>\n",
       "      <td>5</td>\n",
       "      <td>1</td>\n",
       "      <td>spring</td>\n",
       "      <td>0</td>\n",
       "    </tr>\n",
       "  </tbody>\n",
       "</table>\n",
       "<p>851 rows × 9 columns</p>\n",
       "</div>"
      ],
      "text/plain": [
       "           Date  Users  year  month  day  day of week  weekend  season  \\\n",
       "0    2020-01-01     13  2020      1    1            2        0  winter   \n",
       "1    2020-01-02     17  2020      1    2            3        0  winter   \n",
       "2    2020-01-03     13  2020      1    3            4        0  winter   \n",
       "3    2020-01-04      4  2020      1    4            5        1  winter   \n",
       "4    2020-01-05     10  2020      1    5            6        1  winter   \n",
       "..          ...    ...   ...    ...  ...          ...      ...     ...   \n",
       "846  2022-04-26     63  2022      4   26            1        0  spring   \n",
       "847  2022-04-27     64  2022      4   27            2        0  spring   \n",
       "848  2022-04-28     46  2022      4   28            3        0  spring   \n",
       "849  2022-04-29     29  2022      4   29            4        0  spring   \n",
       "850  2022-04-30     21  2022      4   30            5        1  spring   \n",
       "\n",
       "     festivo  \n",
       "0          1  \n",
       "1          0  \n",
       "2          0  \n",
       "3          0  \n",
       "4          0  \n",
       "..       ...  \n",
       "846        0  \n",
       "847        0  \n",
       "848        0  \n",
       "849        0  \n",
       "850        0  \n",
       "\n",
       "[851 rows x 9 columns]"
      ]
     },
     "execution_count": 238,
     "metadata": {},
     "output_type": "execute_result"
    }
   ],
   "source": [
    "df = pd.read_csv(\"user_web_final.csv\", index_col = 0)\n",
    "df"
   ]
  },
  {
   "cell_type": "markdown",
   "metadata": {},
   "source": [
    "## Comprobamos que na hayan NaN ni Nulls:"
   ]
  },
  {
   "cell_type": "code",
   "execution_count": 239,
   "metadata": {},
   "outputs": [
    {
     "name": "stdout",
     "output_type": "stream",
     "text": [
      "0\n"
     ]
    }
   ],
   "source": [
    "total_nan_values = df.isnull().sum().sum()\n",
    "print (total_nan_values)"
   ]
  },
  {
   "cell_type": "code",
   "execution_count": 240,
   "metadata": {},
   "outputs": [
    {
     "data": {
      "text/plain": [
       "False"
      ]
     },
     "execution_count": 240,
     "metadata": {},
     "output_type": "execute_result"
    }
   ],
   "source": [
    "check_for_nan = df.isnull().any().any()\n",
    "check_for_nan"
   ]
  },
  {
   "cell_type": "code",
   "execution_count": 241,
   "metadata": {},
   "outputs": [
    {
     "data": {
      "text/plain": [
       "Index(['Date', 'Users', 'year', 'month', 'day', 'day of week', 'weekend',\n",
       "       'season', 'festivo'],\n",
       "      dtype='object')"
      ]
     },
     "execution_count": 241,
     "metadata": {},
     "output_type": "execute_result"
    }
   ],
   "source": [
    "df.columns"
   ]
  },
  {
   "cell_type": "markdown",
   "metadata": {},
   "source": [
    "## Eliminamos columnas que no necesitamos:"
   ]
  },
  {
   "cell_type": "code",
   "execution_count": 242,
   "metadata": {},
   "outputs": [],
   "source": [
    "df = df.drop(['Date'], axis=1)"
   ]
  },
  {
   "cell_type": "markdown",
   "metadata": {},
   "source": [
    "## Convertimos la columnas \"season\" a númerica:"
   ]
  },
  {
   "cell_type": "code",
   "execution_count": 243,
   "metadata": {},
   "outputs": [
    {
     "data": {
      "text/plain": [
       "array(['winter', 'spring', 'summer', 'autumn'], dtype=object)"
      ]
     },
     "execution_count": 243,
     "metadata": {},
     "output_type": "execute_result"
    }
   ],
   "source": [
    "df['season'].unique()"
   ]
  },
  {
   "cell_type": "code",
   "execution_count": 244,
   "metadata": {},
   "outputs": [],
   "source": [
    "df['season']=df['season'].str.replace('winter',\"1\")\n",
    "df['season']=df['season'].str.replace('spring',\"2\")\n",
    "df['season']=df['season'].str.replace('summer',\"3\")\n",
    "df['season']=df['season'].str.replace('autumn',\"4\")\n",
    "\n",
    "df['season'] = pd.to_numeric(df['season'])"
   ]
  },
  {
   "cell_type": "code",
   "execution_count": 245,
   "metadata": {},
   "outputs": [
    {
     "data": {
      "text/html": [
       "<div>\n",
       "<style scoped>\n",
       "    .dataframe tbody tr th:only-of-type {\n",
       "        vertical-align: middle;\n",
       "    }\n",
       "\n",
       "    .dataframe tbody tr th {\n",
       "        vertical-align: top;\n",
       "    }\n",
       "\n",
       "    .dataframe thead th {\n",
       "        text-align: right;\n",
       "    }\n",
       "</style>\n",
       "<table border=\"1\" class=\"dataframe\">\n",
       "  <thead>\n",
       "    <tr style=\"text-align: right;\">\n",
       "      <th></th>\n",
       "      <th>Users</th>\n",
       "      <th>year</th>\n",
       "      <th>month</th>\n",
       "      <th>day</th>\n",
       "      <th>day of week</th>\n",
       "      <th>weekend</th>\n",
       "      <th>season</th>\n",
       "      <th>festivo</th>\n",
       "    </tr>\n",
       "  </thead>\n",
       "  <tbody>\n",
       "    <tr>\n",
       "      <th>0</th>\n",
       "      <td>13</td>\n",
       "      <td>2020</td>\n",
       "      <td>1</td>\n",
       "      <td>1</td>\n",
       "      <td>2</td>\n",
       "      <td>0</td>\n",
       "      <td>1</td>\n",
       "      <td>1</td>\n",
       "    </tr>\n",
       "    <tr>\n",
       "      <th>1</th>\n",
       "      <td>17</td>\n",
       "      <td>2020</td>\n",
       "      <td>1</td>\n",
       "      <td>2</td>\n",
       "      <td>3</td>\n",
       "      <td>0</td>\n",
       "      <td>1</td>\n",
       "      <td>0</td>\n",
       "    </tr>\n",
       "    <tr>\n",
       "      <th>2</th>\n",
       "      <td>13</td>\n",
       "      <td>2020</td>\n",
       "      <td>1</td>\n",
       "      <td>3</td>\n",
       "      <td>4</td>\n",
       "      <td>0</td>\n",
       "      <td>1</td>\n",
       "      <td>0</td>\n",
       "    </tr>\n",
       "    <tr>\n",
       "      <th>3</th>\n",
       "      <td>4</td>\n",
       "      <td>2020</td>\n",
       "      <td>1</td>\n",
       "      <td>4</td>\n",
       "      <td>5</td>\n",
       "      <td>1</td>\n",
       "      <td>1</td>\n",
       "      <td>0</td>\n",
       "    </tr>\n",
       "    <tr>\n",
       "      <th>4</th>\n",
       "      <td>10</td>\n",
       "      <td>2020</td>\n",
       "      <td>1</td>\n",
       "      <td>5</td>\n",
       "      <td>6</td>\n",
       "      <td>1</td>\n",
       "      <td>1</td>\n",
       "      <td>0</td>\n",
       "    </tr>\n",
       "    <tr>\n",
       "      <th>...</th>\n",
       "      <td>...</td>\n",
       "      <td>...</td>\n",
       "      <td>...</td>\n",
       "      <td>...</td>\n",
       "      <td>...</td>\n",
       "      <td>...</td>\n",
       "      <td>...</td>\n",
       "      <td>...</td>\n",
       "    </tr>\n",
       "    <tr>\n",
       "      <th>846</th>\n",
       "      <td>63</td>\n",
       "      <td>2022</td>\n",
       "      <td>4</td>\n",
       "      <td>26</td>\n",
       "      <td>1</td>\n",
       "      <td>0</td>\n",
       "      <td>2</td>\n",
       "      <td>0</td>\n",
       "    </tr>\n",
       "    <tr>\n",
       "      <th>847</th>\n",
       "      <td>64</td>\n",
       "      <td>2022</td>\n",
       "      <td>4</td>\n",
       "      <td>27</td>\n",
       "      <td>2</td>\n",
       "      <td>0</td>\n",
       "      <td>2</td>\n",
       "      <td>0</td>\n",
       "    </tr>\n",
       "    <tr>\n",
       "      <th>848</th>\n",
       "      <td>46</td>\n",
       "      <td>2022</td>\n",
       "      <td>4</td>\n",
       "      <td>28</td>\n",
       "      <td>3</td>\n",
       "      <td>0</td>\n",
       "      <td>2</td>\n",
       "      <td>0</td>\n",
       "    </tr>\n",
       "    <tr>\n",
       "      <th>849</th>\n",
       "      <td>29</td>\n",
       "      <td>2022</td>\n",
       "      <td>4</td>\n",
       "      <td>29</td>\n",
       "      <td>4</td>\n",
       "      <td>0</td>\n",
       "      <td>2</td>\n",
       "      <td>0</td>\n",
       "    </tr>\n",
       "    <tr>\n",
       "      <th>850</th>\n",
       "      <td>21</td>\n",
       "      <td>2022</td>\n",
       "      <td>4</td>\n",
       "      <td>30</td>\n",
       "      <td>5</td>\n",
       "      <td>1</td>\n",
       "      <td>2</td>\n",
       "      <td>0</td>\n",
       "    </tr>\n",
       "  </tbody>\n",
       "</table>\n",
       "<p>851 rows × 8 columns</p>\n",
       "</div>"
      ],
      "text/plain": [
       "     Users  year  month  day  day of week  weekend  season  festivo\n",
       "0       13  2020      1    1            2        0       1        1\n",
       "1       17  2020      1    2            3        0       1        0\n",
       "2       13  2020      1    3            4        0       1        0\n",
       "3        4  2020      1    4            5        1       1        0\n",
       "4       10  2020      1    5            6        1       1        0\n",
       "..     ...   ...    ...  ...          ...      ...     ...      ...\n",
       "846     63  2022      4   26            1        0       2        0\n",
       "847     64  2022      4   27            2        0       2        0\n",
       "848     46  2022      4   28            3        0       2        0\n",
       "849     29  2022      4   29            4        0       2        0\n",
       "850     21  2022      4   30            5        1       2        0\n",
       "\n",
       "[851 rows x 8 columns]"
      ]
     },
     "execution_count": 245,
     "metadata": {},
     "output_type": "execute_result"
    }
   ],
   "source": [
    "df"
   ]
  },
  {
   "cell_type": "code",
   "execution_count": 246,
   "metadata": {},
   "outputs": [
    {
     "name": "stdout",
     "output_type": "stream",
     "text": [
      "<class 'pandas.core.frame.DataFrame'>\n",
      "Int64Index: 851 entries, 0 to 850\n",
      "Data columns (total 8 columns):\n",
      " #   Column       Non-Null Count  Dtype\n",
      "---  ------       --------------  -----\n",
      " 0   Users        851 non-null    int64\n",
      " 1   year         851 non-null    int64\n",
      " 2   month        851 non-null    int64\n",
      " 3   day          851 non-null    int64\n",
      " 4   day of week  851 non-null    int64\n",
      " 5   weekend      851 non-null    int64\n",
      " 6   season       851 non-null    int64\n",
      " 7   festivo      851 non-null    int64\n",
      "dtypes: int64(8)\n",
      "memory usage: 59.8 KB\n"
     ]
    }
   ],
   "source": [
    "df.info()"
   ]
  },
  {
   "cell_type": "code",
   "execution_count": 247,
   "metadata": {},
   "outputs": [
    {
     "data": {
      "text/plain": [
       "Index(['Users', 'year', 'month', 'day', 'day of week', 'weekend', 'season',\n",
       "       'festivo'],\n",
       "      dtype='object')"
      ]
     },
     "execution_count": 247,
     "metadata": {},
     "output_type": "execute_result"
    }
   ],
   "source": [
    "df.columns"
   ]
  },
  {
   "cell_type": "code",
   "execution_count": 248,
   "metadata": {},
   "outputs": [
    {
     "data": {
      "text/plain": [
       "<AxesSubplot:>"
      ]
     },
     "execution_count": 248,
     "metadata": {},
     "output_type": "execute_result"
    },
    {
     "data": {
      "image/png": "[encoded data removed]",
      "text/plain": [
       "<Figure size 432x288 with 2 Axes>"
      ]
     },
     "metadata": {
      "needs_background": "light"
     },
     "output_type": "display_data"
    }
   ],
   "source": [
    "sns.heatmap(df.corr(), annot = True)"
   ]
  },
  {
   "cell_type": "code",
   "execution_count": 249,
   "metadata": {},
   "outputs": [
    {
     "data": {
      "text/plain": [
       "Index(['Users', 'year', 'month', 'day', 'day of week', 'weekend', 'season',\n",
       "       'festivo'],\n",
       "      dtype='object')"
      ]
     },
     "execution_count": 249,
     "metadata": {},
     "output_type": "execute_result"
    }
   ],
   "source": [
    "df.columns"
   ]
  },
  {
   "cell_type": "markdown",
   "metadata": {},
   "source": [
    "## Escalamos los datos:"
   ]
  },
  {
   "cell_type": "code",
   "execution_count": 250,
   "metadata": {},
   "outputs": [],
   "source": [
    "from sklearn.preprocessing import StandardScaler"
   ]
  },
  {
   "cell_type": "code",
   "execution_count": 251,
   "metadata": {},
   "outputs": [
    {
     "data": {
      "text/html": [
       "<div>\n",
       "<style scoped>\n",
       "    .dataframe tbody tr th:only-of-type {\n",
       "        vertical-align: middle;\n",
       "    }\n",
       "\n",
       "    .dataframe tbody tr th {\n",
       "        vertical-align: top;\n",
       "    }\n",
       "\n",
       "    .dataframe thead th {\n",
       "        text-align: right;\n",
       "    }\n",
       "</style>\n",
       "<table border=\"1\" class=\"dataframe\">\n",
       "  <thead>\n",
       "    <tr style=\"text-align: right;\">\n",
       "      <th></th>\n",
       "      <th>Users</th>\n",
       "      <th>year</th>\n",
       "      <th>month</th>\n",
       "      <th>day</th>\n",
       "      <th>day of week</th>\n",
       "      <th>weekend</th>\n",
       "      <th>season</th>\n",
       "      <th>festivo</th>\n",
       "    </tr>\n",
       "  </thead>\n",
       "  <tbody>\n",
       "    <tr>\n",
       "      <th>0</th>\n",
       "      <td>-1.117423</td>\n",
       "      <td>-1.018181</td>\n",
       "      <td>-1.408981</td>\n",
       "      <td>-1.673458</td>\n",
       "      <td>-0.501913</td>\n",
       "      <td>-0.632195</td>\n",
       "      <td>-1.192095</td>\n",
       "      <td>6.000000</td>\n",
       "    </tr>\n",
       "    <tr>\n",
       "      <th>1</th>\n",
       "      <td>-0.946998</td>\n",
       "      <td>-1.018181</td>\n",
       "      <td>-1.408981</td>\n",
       "      <td>-1.559684</td>\n",
       "      <td>-0.001177</td>\n",
       "      <td>-0.632195</td>\n",
       "      <td>-1.192095</td>\n",
       "      <td>-0.166667</td>\n",
       "    </tr>\n",
       "    <tr>\n",
       "      <th>2</th>\n",
       "      <td>-1.117423</td>\n",
       "      <td>-1.018181</td>\n",
       "      <td>-1.408981</td>\n",
       "      <td>-1.445910</td>\n",
       "      <td>0.499560</td>\n",
       "      <td>-0.632195</td>\n",
       "      <td>-1.192095</td>\n",
       "      <td>-0.166667</td>\n",
       "    </tr>\n",
       "    <tr>\n",
       "      <th>3</th>\n",
       "      <td>-1.500878</td>\n",
       "      <td>-1.018181</td>\n",
       "      <td>-1.408981</td>\n",
       "      <td>-1.332135</td>\n",
       "      <td>1.000296</td>\n",
       "      <td>1.581789</td>\n",
       "      <td>-1.192095</td>\n",
       "      <td>-0.166667</td>\n",
       "    </tr>\n",
       "    <tr>\n",
       "      <th>4</th>\n",
       "      <td>-1.245241</td>\n",
       "      <td>-1.018181</td>\n",
       "      <td>-1.408981</td>\n",
       "      <td>-1.218361</td>\n",
       "      <td>1.501032</td>\n",
       "      <td>1.581789</td>\n",
       "      <td>-1.192095</td>\n",
       "      <td>-0.166667</td>\n",
       "    </tr>\n",
       "    <tr>\n",
       "      <th>...</th>\n",
       "      <td>...</td>\n",
       "      <td>...</td>\n",
       "      <td>...</td>\n",
       "      <td>...</td>\n",
       "      <td>...</td>\n",
       "      <td>...</td>\n",
       "      <td>...</td>\n",
       "      <td>...</td>\n",
       "    </tr>\n",
       "    <tr>\n",
       "      <th>846</th>\n",
       "      <td>1.012885</td>\n",
       "      <td>1.846189</td>\n",
       "      <td>-0.555570</td>\n",
       "      <td>1.170899</td>\n",
       "      <td>-1.002650</td>\n",
       "      <td>-0.632195</td>\n",
       "      <td>-0.298286</td>\n",
       "      <td>-0.166667</td>\n",
       "    </tr>\n",
       "    <tr>\n",
       "      <th>847</th>\n",
       "      <td>1.055491</td>\n",
       "      <td>1.846189</td>\n",
       "      <td>-0.555570</td>\n",
       "      <td>1.284674</td>\n",
       "      <td>-0.501913</td>\n",
       "      <td>-0.632195</td>\n",
       "      <td>-0.298286</td>\n",
       "      <td>-0.166667</td>\n",
       "    </tr>\n",
       "    <tr>\n",
       "      <th>848</th>\n",
       "      <td>0.288580</td>\n",
       "      <td>1.846189</td>\n",
       "      <td>-0.555570</td>\n",
       "      <td>1.398448</td>\n",
       "      <td>-0.001177</td>\n",
       "      <td>-0.632195</td>\n",
       "      <td>-0.298286</td>\n",
       "      <td>-0.166667</td>\n",
       "    </tr>\n",
       "    <tr>\n",
       "      <th>849</th>\n",
       "      <td>-0.435724</td>\n",
       "      <td>1.846189</td>\n",
       "      <td>-0.555570</td>\n",
       "      <td>1.512222</td>\n",
       "      <td>0.499560</td>\n",
       "      <td>-0.632195</td>\n",
       "      <td>-0.298286</td>\n",
       "      <td>-0.166667</td>\n",
       "    </tr>\n",
       "    <tr>\n",
       "      <th>850</th>\n",
       "      <td>-0.776573</td>\n",
       "      <td>1.846189</td>\n",
       "      <td>-0.555570</td>\n",
       "      <td>1.625997</td>\n",
       "      <td>1.000296</td>\n",
       "      <td>1.581789</td>\n",
       "      <td>-0.298286</td>\n",
       "      <td>-0.166667</td>\n",
       "    </tr>\n",
       "  </tbody>\n",
       "</table>\n",
       "<p>851 rows × 8 columns</p>\n",
       "</div>"
      ],
      "text/plain": [
       "        Users      year     month       day  day of week   weekend    season  \\\n",
       "0   -1.117423 -1.018181 -1.408981 -1.673458    -0.501913 -0.632195 -1.192095   \n",
       "1   -0.946998 -1.018181 -1.408981 -1.559684    -0.001177 -0.632195 -1.192095   \n",
       "2   -1.117423 -1.018181 -1.408981 -1.445910     0.499560 -0.632195 -1.192095   \n",
       "3   -1.500878 -1.018181 -1.408981 -1.332135     1.000296  1.581789 -1.192095   \n",
       "4   -1.245241 -1.018181 -1.408981 -1.218361     1.501032  1.581789 -1.192095   \n",
       "..        ...       ...       ...       ...          ...       ...       ...   \n",
       "846  1.012885  1.846189 -0.555570  1.170899    -1.002650 -0.632195 -0.298286   \n",
       "847  1.055491  1.846189 -0.555570  1.284674    -0.501913 -0.632195 -0.298286   \n",
       "848  0.288580  1.846189 -0.555570  1.398448    -0.001177 -0.632195 -0.298286   \n",
       "849 -0.435724  1.846189 -0.555570  1.512222     0.499560 -0.632195 -0.298286   \n",
       "850 -0.776573  1.846189 -0.555570  1.625997     1.000296  1.581789 -0.298286   \n",
       "\n",
       "      festivo  \n",
       "0    6.000000  \n",
       "1   -0.166667  \n",
       "2   -0.166667  \n",
       "3   -0.166667  \n",
       "4   -0.166667  \n",
       "..        ...  \n",
       "846 -0.166667  \n",
       "847 -0.166667  \n",
       "848 -0.166667  \n",
       "849 -0.166667  \n",
       "850 -0.166667  \n",
       "\n",
       "[851 rows x 8 columns]"
      ]
     },
     "execution_count": 251,
     "metadata": {},
     "output_type": "execute_result"
    }
   ],
   "source": [
    "scaler = StandardScaler()\n",
    "scaler.fit(df)\n",
    "df_scaled = scaler.transform(df)\n",
    "df_scaled = pd.DataFrame(df_scaled, columns = ['Users', 'year', 'month', 'day', 'day of week', 'weekend', 'season',\n",
    "       'festivo'])\n",
    "df_scaled\n"
   ]
  },
  {
   "cell_type": "markdown",
   "metadata": {},
   "source": [
    "## Separamos la variable target:"
   ]
  },
  {
   "cell_type": "code",
   "execution_count": 252,
   "metadata": {},
   "outputs": [],
   "source": [
    "X = df[['year', 'month', 'day', 'day of week', 'weekend', 'season',\n",
    "       'festivo']]\n",
    "\n",
    "y = df['Users']"
   ]
  },
  {
   "cell_type": "markdown",
   "metadata": {},
   "source": [
    "## Dividimos los daton train y test:"
   ]
  },
  {
   "cell_type": "code",
   "execution_count": 253,
   "metadata": {},
   "outputs": [],
   "source": [
    "X_train = df[['year', 'month', 'day', 'day of week', 'weekend', 'season',\n",
    "       'festivo']][:-150]\n",
    "X_test = df[['year', 'month', 'day', 'day of week', 'weekend', 'season',\n",
    "       'festivo']][-150:]\n",
    "\n",
    "y_train = df[\"Users\"][:-150]\n",
    "y_test = df[\"Users\"][-150:]\n"
   ]
  },
  {
   "cell_type": "markdown",
   "metadata": {},
   "source": [
    "## Creamos modelo de regresión lineal:"
   ]
  },
  {
   "cell_type": "code",
   "execution_count": 254,
   "metadata": {},
   "outputs": [],
   "source": [
    "from sklearn.linear_model import LinearRegression\n",
    "from sklearn.metrics import mean_absolute_error, mean_absolute_percentage_error ,mean_squared_error"
   ]
  },
  {
   "cell_type": "code",
   "execution_count": 255,
   "metadata": {},
   "outputs": [],
   "source": [
    "modelo = LinearRegression()\n",
    "modelo.fit(X_train, y_train)\n",
    "\n",
    "predictions = modelo.predict(X_test)"
   ]
  },
  {
   "cell_type": "markdown",
   "metadata": {},
   "source": [
    "## Evaluamos el modelo:"
   ]
  },
  {
   "cell_type": "code",
   "execution_count": 256,
   "metadata": {},
   "outputs": [
    {
     "name": "stdout",
     "output_type": "stream",
     "text": [
      "MAE:  9.321082391025799\n",
      "MAPE:  0.20545279813255274\n",
      "MSE:  155.0532722690623\n",
      "RMSE:  12.452038880001231\n"
     ]
    }
   ],
   "source": [
    "print(\"MAE: \", mean_absolute_error(y_test, predictions))\n",
    "print(\"MAPE: \", mean_absolute_percentage_error(y_test,predictions))\n",
    "print(\"MSE: \", mean_squared_error(y_test,predictions))\n",
    "print(\"RMSE: \", np.sqrt(mean_squared_error(y_test,predictions)))"
   ]
  },
  {
   "cell_type": "code",
   "execution_count": 257,
   "metadata": {},
   "outputs": [
    {
     "data": {
      "text/plain": [
       "0.32344208529440543"
      ]
     },
     "execution_count": 257,
     "metadata": {},
     "output_type": "execute_result"
    }
   ],
   "source": [
    "from sklearn import metrics\n",
    "\n",
    "modelo.score(X_test, y_test)"
   ]
  },
  {
   "cell_type": "code",
   "execution_count": 258,
   "metadata": {},
   "outputs": [
    {
     "name": "stderr",
     "output_type": "stream",
     "text": [
      "c:\\Users\\Señor Topo\\AppData\\Local\\Programs\\Python\\Python310\\lib\\site-packages\\seaborn\\_decorators.py:36: FutureWarning: Pass the following variables as keyword args: x, y. From version 0.12, the only valid positional argument will be `data`, and passing other arguments without an explicit keyword will result in an error or misinterpretation.\n",
      "  warnings.warn(\n"
     ]
    },
    {
     "data": {
      "image/png": "[encoded data removed]",
      "text/plain": [
       "<Figure size 432x288 with 1 Axes>"
      ]
     },
     "metadata": {
      "needs_background": "light"
     },
     "output_type": "display_data"
    }
   ],
   "source": [
    "sns.scatterplot(y_test, predictions);"
   ]
  },
  {
   "cell_type": "code",
   "execution_count": 259,
   "metadata": {},
   "outputs": [
    {
     "name": "stderr",
     "output_type": "stream",
     "text": [
      "c:\\Users\\Señor Topo\\AppData\\Local\\Programs\\Python\\Python310\\lib\\site-packages\\seaborn\\distributions.py:2619: FutureWarning: `distplot` is a deprecated function and will be removed in a future version. Please adapt your code to use either `displot` (a figure-level function with similar flexibility) or `histplot` (an axes-level function for histograms).\n",
      "  warnings.warn(msg, FutureWarning)\n"
     ]
    },
    {
     "data": {
      "image/png": "[encoded data removed]",
      "text/plain": [
       "<Figure size 432x288 with 1 Axes>"
      ]
     },
     "metadata": {
      "needs_background": "light"
     },
     "output_type": "display_data"
    }
   ],
   "source": [
    "sns.distplot((y_test - predictions));"
   ]
  },
  {
   "cell_type": "markdown",
   "metadata": {},
   "source": [
    "## Creamos modelo de regresión polinómica:"
   ]
  },
  {
   "cell_type": "code",
   "execution_count": 260,
   "metadata": {},
   "outputs": [],
   "source": [
    "from sklearn.preprocessing import PolynomialFeatures"
   ]
  },
  {
   "cell_type": "code",
   "execution_count": 262,
   "metadata": {},
   "outputs": [],
   "source": [
    "X = df_scaled[['year', 'month', 'day', 'day of week', 'weekend', 'season',\n",
    "       'festivo']]\n",
    "\n",
    "y = df_scaled['Users']"
   ]
  },
  {
   "cell_type": "code",
   "execution_count": 263,
   "metadata": {},
   "outputs": [],
   "source": [
    "X_train = df_scaled[['year', 'month', 'day', 'day of week', 'weekend', 'season',\n",
    "       'festivo']][:-150]\n",
    "X_test = df_scaled[['year', 'month', 'day', 'day of week', 'weekend', 'season',\n",
    "       'festivo']][-150:]\n",
    "\n",
    "y_train = df_scaled[\"Users\"][:-150]\n",
    "y_test = df_scaled[\"Users\"][-150:]"
   ]
  },
  {
   "cell_type": "code",
   "execution_count": 264,
   "metadata": {},
   "outputs": [
    {
     "data": {
      "text/plain": [
       "LinearRegression()"
      ]
     },
     "execution_count": 264,
     "metadata": {},
     "output_type": "execute_result"
    }
   ],
   "source": [
    "poly_reg = PolynomialFeatures(degree=5)\n",
    "poly_reg.fit(X_train)\n",
    "X_poly_train = poly_reg.transform(X_train) \n",
    "\n",
    "pol_reg = LinearRegression()\n",
    "pol_reg.fit(X_poly_train, y_train)"
   ]
  },
  {
   "cell_type": "code",
   "execution_count": 265,
   "metadata": {},
   "outputs": [],
   "source": [
    "from sklearn.metrics import mean_absolute_error, mean_squared_error, r2_score, mean_absolute_percentage_error"
   ]
  },
  {
   "cell_type": "code",
   "execution_count": 266,
   "metadata": {},
   "outputs": [
    {
     "name": "stdout",
     "output_type": "stream",
     "text": [
      "MAE train 0.3476086221816106\n",
      "MAPE train 1.4811015380901198\n",
      "MSE train 0.22466826473513837\n",
      "RMSE train 0.47399184036767805\n",
      "R2 score train 0.7950704488680602\n"
     ]
    }
   ],
   "source": [
    "print('MAE train', mean_absolute_error(y_train, pol_reg.predict(X_poly_train)))\n",
    "print('MAPE train', mean_absolute_percentage_error(y_train, pol_reg.predict(X_poly_train)))\n",
    "print('MSE train', mean_squared_error(y_train, pol_reg.predict(X_poly_train)))\n",
    "print('RMSE train', np.sqrt(mean_squared_error(y_train, pol_reg.predict(X_poly_train))))\n",
    "print('R2 score train', r2_score(y_train, pol_reg.predict(X_poly_train)))"
   ]
  },
  {
   "cell_type": "code",
   "execution_count": 267,
   "metadata": {},
   "outputs": [],
   "source": [
    "X_poly_test = poly_reg.transform(X_test)"
   ]
  },
  {
   "cell_type": "code",
   "execution_count": 268,
   "metadata": {},
   "outputs": [
    {
     "name": "stdout",
     "output_type": "stream",
     "text": [
      "MAE test 32159223622.9469\n",
      "MAPE test 199258697766.14908\n",
      "MSE test 6.120794014457975e+21\n",
      "RMSE test 78235503541.92126\n",
      "R2 score test -1.4712527349447068e+22\n"
     ]
    }
   ],
   "source": [
    "print('MAE test', mean_absolute_error(y_test, pol_reg.predict(X_poly_test)))\n",
    "print('MAPE test', mean_absolute_percentage_error(y_test, pol_reg.predict(X_poly_test)))\n",
    "print('MSE test', mean_squared_error(y_test, pol_reg.predict(X_poly_test)))\n",
    "print('RMSE test', np.sqrt(mean_squared_error(y_test, pol_reg.predict(X_poly_test))))\n",
    "print('R2 score test', r2_score(y_test, pol_reg.predict(X_poly_test)))"
   ]
  }
 ],
 "metadata": {
  "interpreter": {
   "hash": "9e5400e5ee4c32a55e9f9baa452581c6dc8ac3eb3c09fa48a15b288463d1d416"
  },
  "kernelspec": {
   "display_name": "Python 3.10.0 64-bit (system)",
   "language": "python",
   "name": "python3"
  },
  "language_info": {
   "codemirror_mode": {
    "name": "ipython",
    "version": 3
   },
   "file_extension": ".py",
   "mimetype": "text/x-python",
   "name": "python",
   "nbconvert_exporter": "python",
   "pygments_lexer": "ipython3",
   "version": "3.10.0"
  },
  "orig_nbformat": 4
 },
 "nbformat": 4,
 "nbformat_minor": 2
}
